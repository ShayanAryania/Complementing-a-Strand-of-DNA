{
 "cells": [
  {
   "cell_type": "markdown",
   "metadata": {},
   "source": [
    "#### ***Problem***"
   ]
  },
  {
   "cell_type": "markdown",
   "metadata": {},
   "source": [
    "In DNA strings, symbols 'A' and 'T' are complements of each other, as are 'C' and 'G'.\n",
    "\n",
    "The reverse complement of a DNA string s is the string sc formed by reversing the symbols of s, then taking the complement of each symbol (e.g., the reverse complement of \"GTCA\" is \"TGAC\").\n",
    "\n",
    "Given: A DNA string s of length at most 1000 bp.\n",
    "\n",
    "Return: The reverse complement sc of s."
   ]
  },
  {
   "cell_type": "markdown",
   "metadata": {},
   "source": [
    "#### ***Sample Dataset***"
   ]
  },
  {
   "cell_type": "markdown",
   "metadata": {},
   "source": [
    "AAAACCCGGT"
   ]
  },
  {
   "cell_type": "markdown",
   "metadata": {},
   "source": [
    "#### ***Sample Output***"
   ]
  },
  {
   "cell_type": "markdown",
   "metadata": {},
   "source": [
    "ACCGGGTTTT\n"
   ]
  },
  {
   "cell_type": "markdown",
   "metadata": {},
   "source": [
    "# Code"
   ]
  },
  {
   "cell_type": "markdown",
   "metadata": {},
   "source": [
    "#### Functions"
   ]
  },
  {
   "cell_type": "code",
   "execution_count": 14,
   "metadata": {},
   "outputs": [],
   "source": [
    "def Reverse_Complementing(dna):\n",
    "    complement = { \"A\" : \"T\", \"C\" : \"G\", \"G\" : \"C\", \"T\" : \"A\"}\n",
    "    reverse_complement  = [complement[base] for base in reversed(dna)]\n",
    "    return ''.join(reverse_complement)\n"
   ]
  },
  {
   "cell_type": "markdown",
   "metadata": {},
   "source": [
    "#### Importing the file"
   ]
  },
  {
   "cell_type": "code",
   "execution_count": 15,
   "metadata": {},
   "outputs": [],
   "source": [
    "    with open(\"/Users/shayanaryania/Desktop/University/Rosalind/3_Complementing_a_Strand_of_DNA/rosalind_revc.txt\") as input_data:\n",
    "        DNA = input_data.read().strip()"
   ]
  },
  {
   "cell_type": "code",
   "execution_count": 16,
   "metadata": {},
   "outputs": [
    {
     "data": {
      "text/plain": [
       "'TTGCCCGATTCGCGCGAAGAAGTTGCGCCAAGTTTCTAAACGTCTGGGACACCTTTGGCAGAAACCCGATGGTTAGTAGAAGGTGACAAAAAAGGTAGGTAACTCGGGCTCCGACAAGGTTAGACCCTTTCCGAGCTCATGTTGTCCCTGGGGCACCAAGCAGCGCTGCGTACTAGGCAATTGGCATGGTACGTCGCACAAATGTCGTTCACGAGCCGGGGCCGACTTACCACTTAGTTTAATGAAACAGTCGATGAGTATACACACATGATTAAGGTTAGCTATGAACGAAAATGTAAACTTTCGTCATGTTGTTTTACTGCTAAGTCATGTAATACCAATATTAGGATGTCCAGGGAACCAGCGAAGGATAGAAAGAACTGAGGATCATCCCAACACAAGTATCAGTCGCATCCTTATTTGAACCATCCTAAAGACAATAATACGACGGCGTGCTTTATAGCGATTGCTCGGTGTAGGATGTGAGTTCAGATCCAGAGTGAATCCACCAAGGTTCGGTAGGACCCGATTTACATACGCGGGAGGTACTGCGGTCACGCACATTACAGGCGGTGGGGACTTTCGGTCAAGAGATTATGATAGGGCAAAACCGCGCATCACGCGGACGACCAAAGTGCCCAGTCCTACCGGTGAATGAGATCCAACAACCGGTATGGTGGCATAGGTGGTGACAGTGGTCACCGCACGTAATTCGGACGTCGCTTTAAACATATACTGGCTAGGTGGCGTGTAAGGATTTTGGGACGGTCAATGAGCTCAATGCCTGTGGTGCACGGACTAAGGAGTTGGCTTACCAGGTCAGTTGGATGGTAGCGGGCTATTGGCTATCCAAACGAAGTACCTATCAGAGTGTAGGGCGTATATTTTTAATAATTCGTATATCAAAAAACCTTAACAGGACGCAATAGGGAAGCGGGGGTGAGAGATTCTTCCGGGTGCCGTGACACGAGTGCACGTATCTCGACGACGACC'"
      ]
     },
     "execution_count": 16,
     "metadata": {},
     "output_type": "execute_result"
    }
   ],
   "source": [
    "Reversed_Complement = Reverse_Complementing(DNA)"
   ]
  },
  {
   "cell_type": "markdown",
   "metadata": {},
   "source": [
    "#### Printing the output"
   ]
  },
  {
   "cell_type": "code",
   "execution_count": 17,
   "metadata": {},
   "outputs": [
    {
     "name": "stdout",
     "output_type": "stream",
     "text": [
      "TTGCCCGATTCGCGCGAAGAAGTTGCGCCAAGTTTCTAAACGTCTGGGACACCTTTGGCAGAAACCCGATGGTTAGTAGAAGGTGACAAAAAAGGTAGGTAACTCGGGCTCCGACAAGGTTAGACCCTTTCCGAGCTCATGTTGTCCCTGGGGCACCAAGCAGCGCTGCGTACTAGGCAATTGGCATGGTACGTCGCACAAATGTCGTTCACGAGCCGGGGCCGACTTACCACTTAGTTTAATGAAACAGTCGATGAGTATACACACATGATTAAGGTTAGCTATGAACGAAAATGTAAACTTTCGTCATGTTGTTTTACTGCTAAGTCATGTAATACCAATATTAGGATGTCCAGGGAACCAGCGAAGGATAGAAAGAACTGAGGATCATCCCAACACAAGTATCAGTCGCATCCTTATTTGAACCATCCTAAAGACAATAATACGACGGCGTGCTTTATAGCGATTGCTCGGTGTAGGATGTGAGTTCAGATCCAGAGTGAATCCACCAAGGTTCGGTAGGACCCGATTTACATACGCGGGAGGTACTGCGGTCACGCACATTACAGGCGGTGGGGACTTTCGGTCAAGAGATTATGATAGGGCAAAACCGCGCATCACGCGGACGACCAAAGTGCCCAGTCCTACCGGTGAATGAGATCCAACAACCGGTATGGTGGCATAGGTGGTGACAGTGGTCACCGCACGTAATTCGGACGTCGCTTTAAACATATACTGGCTAGGTGGCGTGTAAGGATTTTGGGACGGTCAATGAGCTCAATGCCTGTGGTGCACGGACTAAGGAGTTGGCTTACCAGGTCAGTTGGATGGTAGCGGGCTATTGGCTATCCAAACGAAGTACCTATCAGAGTGTAGGGCGTATATTTTTAATAATTCGTATATCAAAAAACCTTAACAGGACGCAATAGGGAAGCGGGGGTGAGAGATTCTTCCGGGTGCCGTGACACGAGTGCACGTATCTCGACGACGACC\n"
     ]
    }
   ],
   "source": [
    "print(Reversed_Complement)"
   ]
  },
  {
   "cell_type": "markdown",
   "metadata": {},
   "source": [
    "#### Exporting the output"
   ]
  },
  {
   "cell_type": "code",
   "execution_count": 18,
   "metadata": {},
   "outputs": [],
   "source": [
    "    with open('/Users/shayanaryania/Desktop/University/Rosalind/3_Complementing_a_Strand_of_DNA/Complementing_a_Strand_of_DNA.txt', 'w') as output_data:\n",
    "        output_data.write(Reversed_Complement)"
   ]
  }
 ],
 "metadata": {
  "kernelspec": {
   "display_name": "Python 3",
   "language": "python",
   "name": "python3"
  },
  "language_info": {
   "codemirror_mode": {
    "name": "ipython",
    "version": 3
   },
   "file_extension": ".py",
   "mimetype": "text/x-python",
   "name": "python",
   "nbconvert_exporter": "python",
   "pygments_lexer": "ipython3",
   "version": "3.11.4"
  }
 },
 "nbformat": 4,
 "nbformat_minor": 2
}
